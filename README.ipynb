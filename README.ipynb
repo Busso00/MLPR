{
 "cells": [
  {
   "cell_type": "code",
   "execution_count": null,
   "metadata": {},
   "outputs": [],
   "source": [
    "\" Repository of the project Machine Learning and Pattern Recognition @ Polito academic year 2022/2023 \"\n",
    "\n",
    "\"\"\" The projec is about traditional machine learning shallow classification tecniques and dimensionality reduction techniques \"\"\"\n",
    "\"\"\" Code is an implementation of those techniques starting from a mathematical description and demonstration given during lab hours \"\"\"\n",
    "\n",
    "\"\"\" Goal of the project are described in BiometricIdentityVerification_2023.pdf \"\"\"\n",
    "\"\"\" Report.pdf is about the result of various techniques applied to Train and Test data (Train.txt, Test.txt) \"\"\"\n",
    "\"\"\" Contributors are Federico Bussolino and Francine Ombala \"\"\"\n",
    "\n",
    "\"\"\" The project can also be seen as an useful tool to apply machine learning techniques to preprocessed or postprocess data (ex. via NN) \"\"\"\n"
   ]
  }
 ],
 "metadata": {
  "language_info": {
   "name": "python"
  }
 },
 "nbformat": 4,
 "nbformat_minor": 2
}
